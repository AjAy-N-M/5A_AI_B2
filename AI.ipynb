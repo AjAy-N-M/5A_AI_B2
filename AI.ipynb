{
  "nbformat": 4,
  "nbformat_minor": 0,
  "metadata": {
    "colab": {
      "provenance": []
    },
    "kernelspec": {
      "name": "python3",
      "display_name": "Python 3"
    },
    "language_info": {
      "name": "python"
    }
  },
  "cells": [
    {
      "cell_type": "code",
      "execution_count": null,
      "metadata": {
        "colab": {
          "base_uri": "https://localhost:8080/"
        },
        "id": "rGd2GTcSFAgX",
        "outputId": "86edf707-adba-424d-8d6d-d3d0f2c24db0"
      },
      "outputs": [
        {
          "output_type": "stream",
          "name": "stdout",
          "text": [
            "5 AJAY\n"
          ]
        }
      ],
      "source": [
        "x = 5\n",
        "\n",
        "name = \"AJAY\"\n",
        "\n",
        "print(x, name)\n"
      ]
    },
    {
      "cell_type": "code",
      "source": [
        "age = 25\n",
        "print(\"Age:\", age)\n",
        "height = 5.11\n",
        "print(\"Height:\", height)\n",
        "message = \"Hello, world!\"\n",
        "print(\"Message:\", message)\n",
        "is_student = True\n",
        "print(\"Is Student:\", is_student)"
      ],
      "metadata": {
        "colab": {
          "base_uri": "https://localhost:8080/"
        },
        "id": "gvDA176tGziA",
        "outputId": "a7d4360e-bd5b-41b3-a19d-32567b8a0b36"
      },
      "execution_count": null,
      "outputs": [
        {
          "output_type": "stream",
          "name": "stdout",
          "text": [
            "Age: 25\n",
            "Height: 5.11\n",
            "Message: Hello, world!\n",
            "Is Student: True\n"
          ]
        }
      ]
    },
    {
      "cell_type": "code",
      "source": [
        "numbers = [1, 2, 3, 4, 5]\n",
        "print(\"Numbers:\", numbers)\n",
        "coordinates = (10, 20)\n",
        "print(\"Coordinates:\", coordinates)\n",
        "person = {\"name\": \"Alice\", \"age\": 30}\n",
        "print(\"Person:\", person)"
      ],
      "metadata": {
        "colab": {
          "base_uri": "https://localhost:8080/"
        },
        "id": "o3-rnCIdG7bv",
        "outputId": "86e30dfd-8913-4c72-d5f0-cc2c91997648"
      },
      "execution_count": null,
      "outputs": [
        {
          "output_type": "stream",
          "name": "stdout",
          "text": [
            "Numbers: [1, 2, 3, 4, 5]\n",
            "Coordinates: (10, 20)\n",
            "Person: {'name': 'Alice', 'age': 30}\n"
          ]
        }
      ]
    },
    {
      "cell_type": "code",
      "source": [
        "sum = 5 + 3\n",
        "print(\"Sum\",sum)\n",
        "difference = 10 - 4\n",
        "print(\"Difference:\", difference)\n",
        "product = 6 * 2\n",
        "print(\"Product:\", product)\n",
        "quotient = 12 / 3\n",
        "print(\"Quotient:\", quotient)\n",
        "remainder = 15 % 4\n",
        "print(\"Remainder:\", remainder)\n",
        "power = 2 ** 3\n",
        "print(\"Power:\", power)"
      ],
      "metadata": {
        "colab": {
          "base_uri": "https://localhost:8080/"
        },
        "id": "1xGKatLDHAgf",
        "outputId": "b0d369ef-2baf-485c-c737-a2562592b0d5"
      },
      "execution_count": null,
      "outputs": [
        {
          "output_type": "stream",
          "name": "stdout",
          "text": [
            "Sum 8\n",
            "Difference: 6\n",
            "Product: 12\n",
            "Quotient: 4.0\n",
            "Remainder: 3\n",
            "Power: 8\n"
          ]
        }
      ]
    },
    {
      "cell_type": "code",
      "source": [
        "is_equal = (5 == 5)\n",
        "print(\"Is Equal:\", is_equal)\n",
        "is_greater = (10 > 5)\n",
        "print(\"Is Greater:\", is_greater)\n",
        "is_less_or_equal = (15 <= 20)\n",
        "print(\"Is Less or Equal:\", is_less_or_equal)\n",
        "and_result = (True and False)\n",
        "print(\"AND Result:\", and_result)\n",
        "or_result = (True or False)\n",
        "print(\"OR Result:\", or_result)\n",
        "not_result = (not True)\n",
        "print(\"NOT Result:\", not_result)"
      ],
      "metadata": {
        "colab": {
          "base_uri": "https://localhost:8080/"
        },
        "id": "vQxVNcXuHPrI",
        "outputId": "b20c61fe-bfbe-494f-95f4-2fd3c52c0274"
      },
      "execution_count": null,
      "outputs": [
        {
          "output_type": "stream",
          "name": "stdout",
          "text": [
            "Is Equal: True\n",
            "Is Greater: True\n",
            "Is Less or Equal: True\n",
            "AND Result: False\n",
            "OR Result: True\n",
            "NOT Result: False\n"
          ]
        }
      ]
    },
    {
      "cell_type": "code",
      "source": [
        "my_list = [1, 2, 3, 'apple', 'banana']\n",
        "print(\"First element:\", my_list[0])\n",
        "my_list[2] = 10\n",
        "print(\"Modified list:\", my_list)\n",
        "my_list.append('orange')\n",
        "print(\"List with added element:\", my_list)\n",
        "my_list.remove(2)\n",
        "print(\"List with removed element:\", my_list)"
      ],
      "metadata": {
        "colab": {
          "base_uri": "https://localhost:8080/"
        },
        "id": "efHKpSkuHV8O",
        "outputId": "80cfb256-9837-49a7-f564-25b7f5b0c193"
      },
      "execution_count": null,
      "outputs": [
        {
          "output_type": "stream",
          "name": "stdout",
          "text": [
            "First element: 1\n",
            "Modified list: [1, 2, 10, 'apple', 'banana']\n",
            "List with added element: [1, 2, 10, 'apple', 'banana', 'orange']\n",
            "List with removed element: [1, 10, 'apple', 'banana', 'orange']\n"
          ]
        }
      ]
    },
    {
      "cell_type": "code",
      "source": [
        "x = 10\n",
        "if x > 5:\n",
        "  print(\"x is greater than 5\")\n",
        "elif x == 5:\n",
        "  print(\"x is equal to 5\")\n",
        "else:\n",
        "  print(\"x is less than 5\")"
      ],
      "metadata": {
        "colab": {
          "base_uri": "https://localhost:8080/"
        },
        "id": "U0t4oIq1HuRN",
        "outputId": "50c5065a-ffc1-45ed-d60d-19e0776d6c95"
      },
      "execution_count": null,
      "outputs": [
        {
          "output_type": "stream",
          "name": "stdout",
          "text": [
            "x is greater than 5\n"
          ]
        }
      ]
    },
    {
      "cell_type": "code",
      "source": [
        "numbers=[1,2,3,4,5]\n",
        "for numbers in numbers:\n",
        "    print(numbers)\n",
        "\n",
        "x=0\n",
        "while x<5:\n",
        "  print(x)\n",
        "  x+=1"
      ],
      "metadata": {
        "colab": {
          "base_uri": "https://localhost:8080/"
        },
        "id": "E_C1M7QPIx3S",
        "outputId": "a3579756-5f66-4d42-e006-3f3b32a97644"
      },
      "execution_count": null,
      "outputs": [
        {
          "output_type": "stream",
          "name": "stdout",
          "text": [
            "1\n",
            "2\n",
            "3\n",
            "4\n",
            "5\n",
            "0\n",
            "1\n",
            "2\n",
            "3\n",
            "4\n"
          ]
        }
      ]
    },
    {
      "cell_type": "code",
      "source": [
        "num1 = float(input(\"Enter first number:\"))\n",
        "num2 = float(input(\"Enter second number:\"))\n",
        "num3 = float(input(\"Enter third number:\"))\n",
        "if (num1 >= num2) and (num1 >= num3):\n",
        "   largest = num1\n",
        "elif (num2 >= num1) and (num2 >= num3):\n",
        "   largest = num2\n",
        "else:\n",
        "   largest = num3\n",
        "print(\"The largest number is\", largest)\n",
        "num4 = float(input(\"Enter any number:\"))\n",
        "for i in range(1, 11):\n",
        "   print(num4, 'x', i, '=', num4*i)\n",
        "def recur_factorial(n):\n",
        "   if n == 1:\n",
        "       return n\n",
        "   else:\n",
        "       return n*recur_factorial(n-1)\n",
        "num5 = float(input(\"Enter any number:\"))\n",
        "if num5 < 0:\n",
        "   print(\"Sorry, factorial does not exist for negative numbers\")\n",
        "elif num5 == 0:\n",
        "   print(\"The factorial of 0 is 1\")\n",
        "else:\n",
        "   print(\"The factorial of\", num5, \"is\", recur_factorial(num5))"
      ],
      "metadata": {
        "colab": {
          "base_uri": "https://localhost:8080/"
        },
        "id": "E0CAzFRaJkkh",
        "outputId": "b5b565a4-f06a-4776-9138-c8535b163e9c"
      },
      "execution_count": null,
      "outputs": [
        {
          "output_type": "stream",
          "name": "stdout",
          "text": [
            "Enter first number:10\n",
            "Enter second number:20\n",
            "Enter third number:30\n",
            "The largest number is 30.0\n",
            "Enter any number:7\n",
            "7.0 x 1 = 7.0\n",
            "7.0 x 2 = 14.0\n",
            "7.0 x 3 = 21.0\n",
            "7.0 x 4 = 28.0\n",
            "7.0 x 5 = 35.0\n",
            "7.0 x 6 = 42.0\n",
            "7.0 x 7 = 49.0\n",
            "7.0 x 8 = 56.0\n",
            "7.0 x 9 = 63.0\n",
            "7.0 x 10 = 70.0\n",
            "Enter any number:7\n",
            "The factorial of 7.0 is 5040.0\n"
          ]
        }
      ]
    },
    {
      "cell_type": "code",
      "source": [
        "matrix = [[1,2],[1,2],[1,2]]\n",
        "print(matrix)\n"
      ],
      "metadata": {
        "colab": {
          "base_uri": "https://localhost:8080/"
        },
        "id": "t8nXYnNBL9jZ",
        "outputId": "c1c4b8f4-22e6-445d-cc06-9c0dd4cd0e18"
      },
      "execution_count": null,
      "outputs": [
        {
          "output_type": "stream",
          "name": "stdout",
          "text": [
            "[[1, 2], [1, 2], [1, 2]]\n"
          ]
        }
      ]
    }
  ]
}